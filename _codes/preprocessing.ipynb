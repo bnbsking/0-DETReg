{
 "cells": [
  {
   "cell_type": "code",
   "execution_count": 1,
   "id": "foster-prairie",
   "metadata": {},
   "outputs": [],
   "source": [
    "import os, json, sys, glob, random\n",
    "packagePath = \"/home/jovyan/data-vol-1/detreg_latest/_packages\"\n",
    "sys.path += [] if packagePath in sys.path else [packagePath]\n",
    "import preprocess as pre"
   ]
  },
  {
   "cell_type": "markdown",
   "id": "conscious-thanksgiving",
   "metadata": {},
   "source": [
    "### Pretext data"
   ]
  },
  {
   "cell_type": "code",
   "execution_count": 10,
   "id": "understood-marshall",
   "metadata": {},
   "outputs": [
    {
     "name": "stdout",
     "output_type": "stream",
     "text": [
      "/home/jovyan/data-vol-2/recycling/Lab/train/2d/ 2295\n",
      "/home/jovyan/data-vol-2/recycling/Lab/test/2d/ 3460\n",
      "/home/jovyan/data-vol-2/recycling/Lab/test_v2_5classes// 3683\n",
      "/home/jovyan/data-vol-2/recycling/Lab/train_v3/recycle_data_5/train/2d 20944\n",
      "/home/jovyan/data-vol-2/recycling/Lab/train_v3/recycle_data_5/valid/2d 0\n",
      "/home/jovyan/data-vol-2/recycling/Lab/extra_data/label/ 1100\n",
      "/home/jovyan/data-vol-2/recycling/DF/0414/ 9852\n",
      "/home/jovyan/data-vol-2/recycling/backboneData/2022-06-14/ 3145\n",
      "/home/jovyan/data-vol-2/recycling/backboneData/2022-06-16/ 14383\n",
      "/home/jovyan/data-vol-2/recycling/backboneData/2022-06-21/ 3119\n",
      "total length = 61981\n",
      "61981/61981\n",
      "len(os.listdir(/home/jovyan/data-vol-1/detreg_latest/_packages/../_data/pretext/60k/ilsvrc100/train/2d))=59621\n"
     ]
    }
   ],
   "source": [
    "imgFolderL = [\\\n",
    "                 \"/home/jovyan/data-vol-2/recycling/Lab/train/2d/\",\\\n",
    "                 \"/home/jovyan/data-vol-2/recycling/Lab/test/2d/\",\\\n",
    "                 \"/home/jovyan/data-vol-2/recycling/Lab/test_v2_5classes//\",\\\n",
    "                 \"/home/jovyan/data-vol-2/recycling/Lab/train_v3/recycle_data_5/train/2d\",\\\n",
    "                 \"/home/jovyan/data-vol-2/recycling/Lab/train_v3/recycle_data_5/valid/2d\",\\\n",
    "                 \"/home/jovyan/data-vol-2/recycling/Lab/extra_data/label/\",\\\n",
    "                 \"/home/jovyan/data-vol-2/recycling/DF/0414/\",\\\n",
    "                 \"/home/jovyan/data-vol-2/recycling/backboneData/2022-06-14/\",\n",
    "                 \"/home/jovyan/data-vol-2/recycling/backboneData/2022-06-16/\",\n",
    "                 \"/home/jovyan/data-vol-2/recycling/backboneData/2022-06-21/\",\n",
    "             ]\n",
    "\n",
    "obj = pre.PreparePretext(imgFolderL=imgFolderL[:], destName=\"60k\")\n",
    "#obj.checkShape()\n",
    "#obj.removeInvalidShape()\n",
    "obj.createPretextFolder()\n",
    "obj.copy()"
   ]
  },
  {
   "cell_type": "code",
   "execution_count": null,
   "id": "municipal-psychiatry",
   "metadata": {},
   "outputs": [],
   "source": [
    "imgFolderL = [\\\n",
    "                 \"/home/jovyan/data-vol-2/recycling/Lab/train_v2/2d\",\\\n",
    "             ]\n",
    "\n",
    "obj = pre.PreparePretext(imgFolderL=imgFolderL[:], destName=\"20k\")\n",
    "#obj.checkShape()\n",
    "#obj.removeInvalidShape()\n",
    "obj.createPretextFolder()\n",
    "obj.copy()"
   ]
  },
  {
   "cell_type": "code",
   "execution_count": 9,
   "id": "anonymous-syria",
   "metadata": {},
   "outputs": [
    {
     "name": "stdout",
     "output_type": "stream",
     "text": [
      "/home/jovyan/data-vol-2/recycling/backboneData/*/ 39212\n",
      "total length = 39212\n",
      "39212/39212\n",
      "len(os.listdir(/home/jovyan/data-vol-1/detreg_latest/_packages/../_data/pretext/bb40k/ilsvrc100/train/2d))=39212\n"
     ]
    }
   ],
   "source": [
    "imgFolderL = [\\\n",
    "                 \"/home/jovyan/data-vol-2/recycling/backboneData/*/\",\\\n",
    "             ]\n",
    "\n",
    "obj = pre.PreparePretext(imgFolderL=imgFolderL[:], destName=\"bb40k\")\n",
    "#obj.checkShape()\n",
    "#obj.removeInvalidShape()\n",
    "obj.createPretextFolder()\n",
    "obj.copy()"
   ]
  },
  {
   "cell_type": "code",
   "execution_count": null,
   "id": "needed-crash",
   "metadata": {},
   "outputs": [],
   "source": []
  },
  {
   "cell_type": "code",
   "execution_count": null,
   "id": "closed-oracle",
   "metadata": {},
   "outputs": [],
   "source": []
  },
  {
   "cell_type": "markdown",
   "id": "asian-columbia",
   "metadata": {},
   "source": [
    "### Downsteam data"
   ]
  },
  {
   "cell_type": "code",
   "execution_count": null,
   "id": "discrete-costa",
   "metadata": {},
   "outputs": [
    {
     "name": "stdout",
     "output_type": "stream",
     "text": [
      "train, len(imgPrefixS)=20944, len(antPrefixS)=20951, len(self.trainPathL)=20944\n",
      "val, len(imgPrefixS)=2803, len(antPrefixS)=2807, len(self.valPathL)=2803\n",
      "test, len(imgPrefixS)=3673, len(antPrefixS)=3674, len(self.testPathL)=3673\n",
      "20944/20944\n",
      "self.trainClassD is created, summary: [('0', 14342), ('1', 1655), ('2', 16670), ('3', 9537), ('4', 3107)]\n",
      "self.trainOutBoundS is created, summary: set()\n",
      "2803/2803\n",
      "self.valClassD is created, summary: [('0', 2347), ('1', 203), ('2', 2662), ('3', 1024), ('4', 107)]\n",
      "self.valOutBoundS is created, summary: set()\n",
      "3673/3673\n",
      "self.testClassD is created, summary: [('0', 2501), ('1', 25), ('2', 2880), ('3', 771), ('4', 170)]\n",
      "self.testOutBoundS is created, summary: set()\n",
      "Auto balance each class to 9062 data as far as possible\n",
      "26060/26060\n",
      "self.trainClassD is created, summary: [('0', 9062), ('1', 9062), ('2', 9062), ('3', 9062), ('4', 7928)]\n",
      "self.trainOutBoundS is created, summary: set()\n",
      "len(self.trainPathL)=26060, len(set(self.trainPathL))=14896\n"
     ]
    },
    {
     "data": {
      "image/png": "[encoded data removed]",
      "text/plain": [
       "<Figure size 432x288 with 1 Axes>"
      ]
     },
     "metadata": {
      "needs_background": "light"
     },
     "output_type": "display_data"
    },
    {
     "name": "stdout",
     "output_type": "stream",
     "text": [
      "26060/26060\n",
      "len(glob.glob(/home/jovyan/data-vol-1/detreg_latest/_packages/../_data/downstream/labv3_balance/yolo_train/*.txt))=26021\n",
      "len(glob.glob(/home/jovyan/data-vol-1/detreg_latest/_packages/../_data/downstream/labv3_balance/yolo_train/*.jpg))=26020\n",
      "2803/2803\n",
      "len(glob.glob(/home/jovyan/data-vol-1/detreg_latest/_packages/../_data/downstream/labv3_balance/yolo_val/*.txt))=2804\n",
      "len(glob.glob(/home/jovyan/data-vol-1/detreg_latest/_packages/../_data/downstream/labv3_balance/yolo_val/*.jpg))=2803\n",
      "3673/3673\n",
      "len(glob.glob(/home/jovyan/data-vol-1/detreg_latest/_packages/../_data/downstream/labv3_balance/yolo_test/*.txt))=3674\n",
      "len(glob.glob(/home/jovyan/data-vol-1/detreg_latest/_packages/../_data/downstream/labv3_balance/yolo_test/*.jpg))=3673\n",
      "26021/26021len(glob.glob(/home/jovyan/data-vol-1/detreg_latest/_packages/../_data/downstream/labv3_balance/voc_train/*.xml))=26020\n",
      "2804/2804len(glob.glob(/home/jovyan/data-vol-1/detreg_latest/_packages/../_data/downstream/labv3_balance/voc_val/*.xml))=2803\n",
      "3674/3674len(glob.glob(/home/jovyan/data-vol-1/detreg_latest/_packages/../_data/downstream/labv3_balance/voc_test/*.xml))=3673\n",
      "26020/26020\n",
      "1731/26020"
     ]
    }
   ],
   "source": [
    "# trainv3 # index start from 0\n",
    "blackS = {\"20220207_110849_058\",\"20220207_110849_254\",\"20220207_110849_458\", \"20220207_110849_653\",\"20220207_110849_860\",\"20220207_110850_060\",\\\n",
    "          \"20220207_110850_256\",\"20220207_110850_456\",\"20220207_110850_657\",\"20220207_110850_855\"}\n",
    "\n",
    "obj = pre.PrepareDownstream(\\\n",
    "    trainImgFolder=\"/home/jovyan/data-vol-2/recycling/Lab/train_v3/recycle_data_5/train/2d\",\n",
    "    valImgFolder=\"/home/jovyan/data-vol-2/recycling/Lab/train_v3/recycle_data_5/valid/valid_2d/\",\n",
    "    testImgFolder=\"/home/jovyan/data-vol-2/recycling/Lab/test_v2_5classes\",\n",
    "    classesTxtPath=\"/home/jovyan/data-vol-2/recycling/Lab/train_v3/recycle_data_5/train/2d/classes.txt\",\n",
    "    blackS=blackS, classL=['PLC','NPLC','PAC','NPAC','Tetra'], destName=\"labv3_balance\")\n",
    "# obj.checkShape([\"test\"])\n",
    "obj.checkClassesBounds([\"train\",\"val\",\"test\"])\n",
    "obj.autoBalanceTrain()\n",
    "obj.plotClassNum()\n",
    "# obj.checkAspectArea()\n",
    "# obj.show()\n",
    "obj.showSpecific(\"/home/jovyan/data-vol-1/detreg_latest/_data/downstream/labv3/yolo_train/20211223_102413_231.jpg\", \\\n",
    "                 \"/home/jovyan/data-vol-1/detreg_latest/_data/downstream/labv3/yolo_train/20211223_102413_231.txt\")\n",
    "# obj.removeInvalidSet()\n",
    "obj.copy()\n",
    "obj.yolo2voc()\n",
    "obj.voc2coco()"
   ]
  },
  {
   "cell_type": "code",
   "execution_count": 2,
   "id": "quantitative-liver",
   "metadata": {},
   "outputs": [
    {
     "name": "stdout",
     "output_type": "stream",
     "text": [
      "train, len(imgPrefixS)=20944, len(antPrefixS)=20951, len(self.trainPathL)=20944\n",
      "val, len(imgPrefixS)=2803, len(antPrefixS)=2807, len(self.valPathL)=2803\n",
      "test, len(imgPrefixS)=3673, len(antPrefixS)=3674, len(self.testPathL)=3673\n",
      "20944/20944\n",
      "self.trainClassD is created, summary: [('0', 14342), ('1', 1655), ('2', 16670), ('3', 9537), ('4', 3107)]\n",
      "self.trainOutBoundS is created, summary: set()\n",
      "2803/2803\n",
      "self.valClassD is created, summary: [('0', 2347), ('1', 203), ('2', 2662), ('3', 1024), ('4', 107)]\n",
      "self.valOutBoundS is created, summary: set()\n",
      "3673/3673\n",
      "self.testClassD is created, summary: [('0', 2501), ('1', 25), ('2', 2880), ('3', 771), ('4', 170)]\n",
      "self.testOutBoundS is created, summary: set()\n"
     ]
    },
    {
     "data": {
      "image/png": "[encoded data removed]",
      "text/plain": [
       "<Figure size 432x288 with 1 Axes>"
      ]
     },
     "metadata": {
      "needs_background": "light"
     },
     "output_type": "display_data"
    }
   ],
   "source": [
    "# trainv3 # index start from 1\n",
    "blackS = {\"20220207_110849_058\",\"20220207_110849_254\",\"20220207_110849_458\", \"20220207_110849_653\",\"20220207_110849_860\",\"20220207_110850_060\",\\\n",
    "          \"20220207_110850_256\",\"20220207_110850_456\",\"20220207_110850_657\",\"20220207_110850_855\"}\n",
    "\n",
    "obj = pre.PrepareDownstream(\\\n",
    "    trainImgFolder=\"/home/jovyan/data-vol-2/recycling/Lab/train_v3/recycle_data_5/train/2d\",\n",
    "    valImgFolder=\"/home/jovyan/data-vol-2/recycling/Lab/train_v3/recycle_data_5/valid/valid_2d/\",\n",
    "    testImgFolder=\"/home/jovyan/data-vol-2/recycling/Lab/test_v2_5classes\",\n",
    "    classesTxtPath=\"/home/jovyan/data-vol-2/recycling/Lab/train_v3/recycle_data_5/train/2d/classes.txt\",\n",
    "    blackS=blackS, classL=['PLC','NPLC','PAC','NPAC','Tetra'], destName=\"labv3_balance\")\n",
    "# obj.checkShape([\"test\"])\n",
    "obj.checkClassesBounds([\"train\",\"val\",\"test\"])\n",
    "#obj.autoBalanceTrain()\n",
    "obj.plotClassNum()\n",
    "# obj.checkAspectArea()\n",
    "# obj.show()\n",
    "#obj.showSpecific(\"/home/jovyan/data-vol-1/detreg_latest/_data/downstream/labv3/yolo_train/20211223_102413_231.jpg\", \\\n",
    "#                 \"/home/jovyan/data-vol-1/detreg_latest/_data/downstream/labv3/yolo_train/20211223_102413_231.txt\")\n",
    "# obj.removeInvalidSet()\n",
    "#obj.copy()\n",
    "#obj.yolo2voc()\n",
    "#obj.voc2coco()"
   ]
  },
  {
   "cell_type": "code",
   "execution_count": 25,
   "id": "experimental-northeast",
   "metadata": {},
   "outputs": [
    {
     "name": "stdout",
     "output_type": "stream",
     "text": [
      "train, len(imgPrefixS)=0, len(antPrefixS)=0, len(self.trainPathL)=0\n",
      "val, len(imgPrefixS)=146, len(antPrefixS)=147, len(self.valPathL)=146\n",
      "test, len(imgPrefixS)=0, len(antPrefixS)=0, len(self.testPathL)=0\n",
      "29004\n",
      "146\n",
      "instances_train2017.json  instances_val2017.json\n"
     ]
    }
   ],
   "source": [
    "# c7 index start from 0\n",
    "obj = pre.PrepareDownstream(valImgFolder=\"/home/jovyan/data-vol-2/recycling/0606DF/test_7classes/\",\\\n",
    "                            classesTxtPath=\"/home/jovyan/data-vol-2/recycling/0606DF/test_7classes/classes.txt\", destName=\"c7\")\n",
    "#obj.checkShape([\"val\"])\n",
    "#obj.checkClassesBounds([\"val\"])\n",
    "#obj.removeInvalidSet()\n",
    "#obj.copy([\"val\"])\n",
    "#obj.yolo2voc([\"val\"])\n",
    "#obj.voc2coco([\"val\"])\n",
    "#obj.yolo2ap(\"val\")\n",
    "if 0:\n",
    "    srcFolder  = \"/home/jovyan/data-vol-2/recycling/0606DF/train_7classes\"\n",
    "    destFolder = \"../_data/downstream/c7/MSCoco\" \n",
    "    #os.system(f\"cp {srcFolder}/annotations/instances_train2017.json {destFolder}/annotations\")\n",
    "    #os.makedirs(f\"{destFolder}/train2017\", exist_ok=True)\n",
    "    #os.system(f\"cp -r {srcFolder}/train2017 {destFolder}\")\n",
    "    ! ls ../_data/downstream/c7/MSCoco/train2017/ | wc -l\n",
    "    ! ls ../_data/downstream/c7/MSCoco/val2017/ | wc -l\n",
    "    ! ls ../_data/downstream/c7/MSCoco/annotations/"
   ]
  },
  {
   "cell_type": "code",
   "execution_count": 2,
   "id": "sustainable-george",
   "metadata": {},
   "outputs": [
    {
     "name": "stdout",
     "output_type": "stream",
     "text": [
      "train, len(imgPrefixS)=0, len(antPrefixS)=0, len(self.trainPathL)=0\n",
      "val, len(imgPrefixS)=1067, len(antPrefixS)=1068, len(self.valPathL)=1067\n",
      "test, len(imgPrefixS)=0, len(antPrefixS)=0, len(self.testPathL)=0\n",
      "1067/1067\n",
      "self.valClassD is created, summary: [('0', 146), ('1', 54), ('2', 2115), ('3', 3306), ('4', 248), ('5', 11), ('6', 23)]\n",
      "self.valOutBoundS is created, summary: set()\n"
     ]
    }
   ],
   "source": [
    "# c7 # 0620 index start from 0\n",
    "obj = pre.PrepareDownstream(valImgFolder=\"/home/jovyan/data-vol-2/recycling/0620DF/20220616_7cls/\",\\\n",
    "                            classesTxtPath=\"/home/jovyan/data-vol-2/recycling/0606DF/test_7classes/classes.txt\", destName=\"c7_0620\")\n",
    "#obj.checkShape([\"val\"])\n",
    "obj.checkClassesBounds([\"val\"])\n",
    "#obj.removeInvalidSet()\n",
    "#obj.copy([\"val\"])\n",
    "#obj.yolo2voc([\"val\"])\n",
    "#obj.voc2coco([\"val\"])\n",
    "#obj.yolo2ap(\"val\")\n",
    "if 0:\n",
    "    srcFolder  = \"/home/jovyan/data-vol-2/recycling/0620DF/train_7classes\"\n",
    "    destFolder = \"../_data/downstream/c7_0620/MSCoco\"\n",
    "    os.system(f\"cp {srcFolder}/annotations/instances_train2017.json {destFolder}/annotations\")\n",
    "    os.system(f\"cp -r {srcFolder}/train2017 {destFolder}\")\n",
    "    ! ls ../_data/downstream/c7_0620/MSCoco/train2017/ | wc -l\n",
    "    ! ls ../_data/downstream/c7_0620/MSCoco/val2017/ | wc -l\n",
    "    ! ls ../_data/downstream/c7_0620/MSCoco/annotations/"
   ]
  },
  {
   "cell_type": "code",
   "execution_count": 12,
   "id": "basic-found",
   "metadata": {},
   "outputs": [],
   "source": [
    "_20k = [\"/home/jovyan/data-vol-2/recycling/Lab/train_v2/2d\"]\n",
    "_30k = _20k + [\\\n",
    "                 \"/home/jovyan/data-vol-2/recycling/Lab/train/2d/\",\\\n",
    "                 \"/home/jovyan/data-vol-2/recycling/Lab/test/2d/\",\\\n",
    "                 \"/home/jovyan/data-vol-2/recycling/Lab/test_v2_5classes//\",\\\n",
    "                 \"/home/jovyan/data-vol-2/recycling/Lab/train_v3/recycle_data_5/train/2d\",\\\n",
    "                 \"/home/jovyan/data-vol-2/recycling/Lab/train_v3/recycle_data_5/valid/2d\",\\\n",
    "                 \"/home/jovyan/data-vol-2/recycling/Lab/extra_data/label/\",\\\n",
    "              ]\n",
    "_40k = _30k + [\"/home/jovyan/data-vol-2/recycling/DF/0414/\"]\n",
    "_60k = _40k + [\"/home/jovyan/data-vol-2/recycling/backboneData/2022-06-14/\",\n",
    "                 \"/home/jovyan/data-vol-2/recycling/backboneData/2022-06-16/\",\n",
    "                 \"/home/jovyan/data-vol-2/recycling/backboneData/2022-06-21/\",]"
   ]
  },
  {
   "cell_type": "code",
   "execution_count": null,
   "id": "acknowledged-hartford",
   "metadata": {},
   "outputs": [],
   "source": [
    "# swap\n",
    "# unpacked\n",
    "# if else\n",
    "# bool\n",
    "# sum, sorted, reverse\n",
    "# for\n",
    "# for for\n",
    "# lambda\n",
    "# map\n",
    "# filter\n",
    "# enumerate\n",
    "# zip\n",
    "# split, join\n",
    "# or or or in\n",
    "# itertools"
   ]
  }
 ],
 "metadata": {
  "kernelspec": {
   "display_name": "Python 3",
   "language": "python",
   "name": "python3"
  },
  "language_info": {
   "codemirror_mode": {
    "name": "ipython",
    "version": 3
   },
   "file_extension": ".py",
   "mimetype": "text/x-python",
   "name": "python",
   "nbconvert_exporter": "python",
   "pygments_lexer": "ipython3",
   "version": "3.8.5"
  }
 },
 "nbformat": 4,
 "nbformat_minor": 5
}
