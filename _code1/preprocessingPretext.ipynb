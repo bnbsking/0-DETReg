{
 "cells": [
  {
   "cell_type": "code",
   "execution_count": 3,
   "id": "continent-mainland",
   "metadata": {},
   "outputs": [],
   "source": [
    "import glob, os, json, random\n",
    "import cv2"
   ]
  },
  {
   "cell_type": "code",
   "execution_count": 4,
   "id": "fresh-palestine",
   "metadata": {},
   "outputs": [],
   "source": [
    "srcPath = \"/home/jovyan/nas-dataset/recycling\"\n",
    "dstPath = \"/home/jovyan/data-vol-1/detreg_latest/_data/pretext\"\n",
    "\n",
    "class PreparePretext:\n",
    "    def __init__(self, imgFolderL, dstName=\"example\"):\n",
    "        print( \"imgs in folders:\", [ (imgFolder,len(glob.glob(f\"{srcPath}/{imgFolder}/*.jpg\"))) for imgFolder in imgFolderL ] )\n",
    "        self.imgPathL = [ imgPath for imgFolder in imgFolderL for imgPath in glob.glob(f\"{srcPath}/{imgFolder}/*.jpg\") ]\n",
    "        print( f\"len(self.imgPathL)={len(self.imgPathL)}\" )\n",
    "        self.dstPath  = f\"{dstPath}/{dstName}/ilsvrc100/train/2d\"\n",
    "    \n",
    "    def checkShape(self): # optional\n",
    "        self.shapeD = {}\n",
    "        for imgPath in self.imgPathL:\n",
    "            shape = cv2.imread(imgPath).shape\n",
    "            self.shapeD[shape] = (self.shapeD[shape] if shape in self.shapeD else []) + [shape]\n",
    "        print( { shape:len(self.shapeD[shape]) for shape in self.shapeD } )\n",
    "\n",
    "    def copy(self):\n",
    "        os.makedirs(self.dstPath, exist_ok=True)\n",
    "        for i,path in enumerate(self.imgPathL):\n",
    "            print( f\"\\r{i+1}/{len(self.imgPathL)}\", end=\"\")\n",
    "            os.system( f\"cp {path} {self.dstPath}\" )\n",
    "        print( f\"\\nlen(os.listdir({self.dstPath}))={len(os.listdir(self.dstPath))}\" )"
   ]
  },
  {
   "cell_type": "code",
   "execution_count": 5,
   "id": "permanent-norway",
   "metadata": {},
   "outputs": [
    {
     "name": "stdout",
     "output_type": "stream",
     "text": [
      "imgs in folders: [('Lab/train/2d', 2295)]\n",
      "len(self.imgPathL)=2295\n",
      "{(720, 1280, 3): 2295}\n"
     ]
    }
   ],
   "source": [
    "imgFolderL = [\"Lab/train/2d\", \"Lab/test/2d\", \"Lab/test_v2_5classes\", \"Lab/train_v3/recycle_data_5/train/2d\", \"Lab/train_v3/recycle_data_5/valid/valid_2d\", \"Lab/extra_data/label\"]\n",
    "obj = PreparePretext(imgFolderL[:1], \"example\")\n",
    "obj.checkShape()\n",
    "#obj.copy()"
   ]
  },
  {
   "cell_type": "code",
   "execution_count": null,
   "id": "bronze-suspect",
   "metadata": {},
   "outputs": [],
   "source": []
  },
  {
   "cell_type": "code",
   "execution_count": null,
   "id": "absolute-sucking",
   "metadata": {},
   "outputs": [],
   "source": []
  }
 ],
 "metadata": {
  "kernelspec": {
   "display_name": "Python 3",
   "language": "python",
   "name": "python3"
  },
  "language_info": {
   "codemirror_mode": {
    "name": "ipython",
    "version": 3
   },
   "file_extension": ".py",
   "mimetype": "text/x-python",
   "name": "python",
   "nbconvert_exporter": "python",
   "pygments_lexer": "ipython3",
   "version": "3.8.5"
  }
 },
 "nbformat": 4,
 "nbformat_minor": 5
}
